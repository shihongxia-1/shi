{
 "cells": [
  {
   "cell_type": "code",
   "execution_count": 9,
   "metadata": {},
   "outputs": [],
   "source": [
    "import pandas as pd"
   ]
  },
  {
   "cell_type": "code",
   "execution_count": 14,
   "metadata": {},
   "outputs": [
    {
     "name": "stdout",
     "output_type": "stream",
     "text": [
      "<class 'pandas.core.frame.DataFrame'>\n",
      "RangeIndex: 24 entries, 0 to 23\n",
      "Data columns (total 5 columns):\n",
      "age            24 non-null object\n",
      "zhengzhuang    24 non-null object\n",
      "sanguang       24 non-null object\n",
      "tears_num      24 non-null object\n",
      "label          24 non-null object\n",
      "dtypes: object(5)\n",
      "memory usage: 1.1+ KB\n",
      "   age  zhengzhuang  sanguang  tears_num  label\n",
      "0    2            1         0          1      1\n",
      "1    2            1         0          0      2\n",
      "2    2            1         1          1      1\n",
      "3    2            1         1          0      0\n",
      "4    2            0         0          1      1\n"
     ]
    }
   ],
   "source": [
    "data = pd.read_excel('data_lensesv2.xlsx')\n",
    "data.info()\n",
    "# 离散变量的重编码\n",
    "for feature in data.columns:\n",
    "    if data[feature].dtype == 'object':\n",
    "        data[feature] = pd.Categorical(data[feature]).codes\n",
    "print(data.head())\n",
    "X,y = data.iloc[:,:4],data.iloc[:,4]"
   ]
  },
  {
   "cell_type": "code",
   "execution_count": 12,
   "metadata": {},
   "outputs": [],
   "source": [
    "from sklearn.model_selection import train_test_split\n",
    "from sklearn.metrics import accuracy_score  \n",
    "from sklearn import tree\n",
    "from sklearn.tree import DecisionTreeClassifier\n",
    "from sklearn.metrics import confusion_matrix"
   ]
  },
  {
   "cell_type": "code",
   "execution_count": 13,
   "metadata": {},
   "outputs": [
    {
     "name": "stdout",
     "output_type": "stream",
     "text": [
      "准确率为: 1.0\n",
      "[[1 0 0]\n",
      " [0 3 0]\n",
      " [0 0 2]]\n"
     ]
    }
   ],
   "source": [
    "#划分数据集为训练集和测试集\n",
    "X_train,X_test,y_train,y_test = train_test_split(X,y,random_state=33)\n",
    "RF = tree.DecisionTreeClassifier()   #创建DecisionTreeClassifier()类\n",
    "RF.fit(X, y)     #使用数据，构建决策树\n",
    "y_pred = RF.predict(X_test)\n",
    "print('准确率为:', accuracy_score(y_test, y_pred))\n",
    "print (confusion_matrix(y_test, y_pred))\n"
   ]
  }
 ],
 "metadata": {
  "kernelspec": {
   "display_name": "Python 3",
   "language": "python",
   "name": "python3"
  },
  "language_info": {
   "codemirror_mode": {
    "name": "ipython",
    "version": 3
   },
   "file_extension": ".py",
   "mimetype": "text/x-python",
   "name": "python",
   "nbconvert_exporter": "python",
   "pygments_lexer": "ipython3",
   "version": "3.7.4"
  }
 },
 "nbformat": 4,
 "nbformat_minor": 2
}
